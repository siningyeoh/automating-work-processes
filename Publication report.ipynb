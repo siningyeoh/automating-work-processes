{
 "cells": [
  {
   "cell_type": "code",
   "execution_count": 8,
   "source": [
    "# Before running this script, download the basic publication report file from RPS and rename it to 'publications'.\r\n",
    "# Filter the file on publications with a blank 'Reporting Date 1'. \r\n",
    "# Check these publications and fill the publication date in manually on RPS if possible. \r\n",
    "\r\n",
    "import pandas as pd\r\n",
    "import numpy as np\r\n",
    "from datetime import datetime\r\n",
    "\r\n",
    "def prepare_dataframe():\r\n",
    "    df=pd.read_csv(\"publications.csv\", index_col=\"ID\")\r\n",
    "    # Convert reporting date column to datetime in day-month-year format\r\n",
    "    df['Reporting date 1'] = pd.to_datetime(df['Reporting date 1'], dayfirst=True)\r\n",
    "    df['Online publication date'] = pd.to_datetime(df['Online publication date'], dayfirst=True)\r\n",
    "    # Create a date column which takes the first online publication date if earlier than the reporting date 1\r\n",
    "    df['Publication_Date'] = np.where(df['Online publication date']<df['Reporting date 1'], df['Online publication date'], df['Reporting date 1'])\r\n",
    "    # Filter to include only publications from today's date onwards. Include only relevant columns.\r\n",
    "    df=df.loc[df['Publication_Date']>= pd.Timestamp('today').floor('D'), \\\r\n",
    "        ['Publication type', 'Publication_Date','Title', 'Authors OR Creators', 'Editors OR Supervisors']]\r\n",
    "    #sort rows by date\r\n",
    "    df=df.sort_values(by=['Publication_Date'])\r\n",
    "    return df\r\n",
    "\r\n",
    "\r\n",
    "def save_file(df):\r\n",
    "    # Save spreadsheet with today's date in filename and frozen top row\r\n",
    "    datestring = datetime.strftime(datetime.now(), '%Y_%m_%d')\r\n",
    "    writer = pd.ExcelWriter(datestring + '_publications.xlsx') \r\n",
    "    df.to_excel(writer, sheet_name='Publications', freeze_panes=(1,0))\r\n",
    "    # Auto-adjust columns' width\r\n",
    "    for column in df:\r\n",
    "        column_width = max(df[column].astype(str).map(len).max(), len(column))\r\n",
    "        col_idx = df.columns.get_loc(column)\r\n",
    "        writer.sheets['Publications'].set_column(col_idx+1, col_idx+1, column_width+1)\r\n",
    "    writer.save()\r\n",
    "\r\n",
    "\r\n",
    "def main():\r\n",
    "    df = prepare_dataframe()\r\n",
    "    save_file(df)\r\n",
    "\r\n",
    "\r\n",
    "if __name__ == \"__main__\":\r\n",
    "    main()\r\n",
    "\r\n",
    "#Run a quick check to ensure it's correct"
   ],
   "outputs": [
    {
     "output_type": "stream",
     "name": "stderr",
     "text": [
      "C:\\Anaconda3\\lib\\site-packages\\IPython\\core\\interactiveshell.py:3343: DtypeWarning: Columns (9,42,48,70,79,85,86,87,88) have mixed types.Specify dtype option on import or set low_memory=False.\n",
      "  exec(code_obj, self.user_global_ns, self.user_ns)\n"
     ]
    }
   ],
   "metadata": {}
  }
 ],
 "metadata": {
  "orig_nbformat": 4,
  "language_info": {
   "name": "python",
   "version": "3.8.3",
   "mimetype": "text/x-python",
   "codemirror_mode": {
    "name": "ipython",
    "version": 3
   },
   "pygments_lexer": "ipython3",
   "nbconvert_exporter": "python",
   "file_extension": ".py"
  },
  "kernelspec": {
   "name": "python3",
   "display_name": "Python 3.8.3 64-bit ('base': conda)"
  },
  "interpreter": {
   "hash": "97ae724bfa85b9b34df7982b8bb8c7216f435b92902d749e4263f71162bea840"
  }
 },
 "nbformat": 4,
 "nbformat_minor": 2
}