{
 "metadata": {
  "orig_nbformat": 2,
  "kernelspec": {
   "name": "python3",
   "display_name": "Python 3"
  }
 },
 "nbformat": 4,
 "nbformat_minor": 2,
 "cells": [
  {
   "cell_type": "code",
   "execution_count": 2,
   "metadata": {
    "tags": []
   },
   "outputs": [
    {
     "output_type": "stream",
     "name": "stdout",
     "text": "Requirement already satisfied: rapidfuzz in c:\\anaconda3\\lib\\site-packages (0.12.2)\nNote: you may need to restart the kernel to use updated packages.\n"
    }
   ],
   "source": [
    "pip install rapidfuzz"
   ]
  },
  {
   "cell_type": "code",
   "execution_count": 1,
   "metadata": {
    "tags": []
   },
   "outputs": [
    {
     "output_type": "stream",
     "name": "stderr",
     "text": [
      "[nltk_data] Downloading package stopwords to C:\\Users\\Si\n[nltk_data]     Ning\\AppData\\Roaming\\nltk_data...\n[nltk_data]   Package stopwords is already up-to-date!\n"
     ]
    },
    {
     "output_type": "execute_result",
     "data": {
      "text/plain": [
       "                         Institution Name  \\\n",
       "0  A Tan Kapuja Buddhista Főiskola (TKBF)   \n",
       "1               AA School of Architecture   \n",
       "2                     Aalborg Universitet   \n",
       "3                         Aalto-yliopisto   \n",
       "4                      Aarhus Universitet   \n",
       "\n",
       "                      English Institution Name Country Code  \n",
       "0  \"The Gate of the Teaching\" Buddhist College           HU  \n",
       "1                    AA School of Architecture           UK  \n",
       "2                           Aalborg University           DK  \n",
       "3                             Aalto University           FI  \n",
       "4                            Aarhus University           DK  "
      ],
      "text/html": "<div>\n<style scoped>\n    .dataframe tbody tr th:only-of-type {\n        vertical-align: middle;\n    }\n\n    .dataframe tbody tr th {\n        vertical-align: top;\n    }\n\n    .dataframe thead th {\n        text-align: right;\n    }\n</style>\n<table border=\"1\" class=\"dataframe\">\n  <thead>\n    <tr style=\"text-align: right;\">\n      <th></th>\n      <th>Institution Name</th>\n      <th>English Institution Name</th>\n      <th>Country Code</th>\n    </tr>\n  </thead>\n  <tbody>\n    <tr>\n      <th>0</th>\n      <td>A Tan Kapuja Buddhista Főiskola (TKBF)</td>\n      <td>\"The Gate of the Teaching\" Buddhist College</td>\n      <td>HU</td>\n    </tr>\n    <tr>\n      <th>1</th>\n      <td>AA School of Architecture</td>\n      <td>AA School of Architecture</td>\n      <td>UK</td>\n    </tr>\n    <tr>\n      <th>2</th>\n      <td>Aalborg Universitet</td>\n      <td>Aalborg University</td>\n      <td>DK</td>\n    </tr>\n    <tr>\n      <th>3</th>\n      <td>Aalto-yliopisto</td>\n      <td>Aalto University</td>\n      <td>FI</td>\n    </tr>\n    <tr>\n      <th>4</th>\n      <td>Aarhus Universitet</td>\n      <td>Aarhus University</td>\n      <td>DK</td>\n    </tr>\n  </tbody>\n</table>\n</div>"
     },
     "metadata": {},
     "execution_count": 1
    }
   ],
   "source": [
    "#Purpose: To identify list of organisations which are UK universities\n",
    "#List of EU universities sourced from https://www.eter-project.com/#/search\n",
    "\n",
    "#module for working with datasets\n",
    "import pandas as pd\n",
    "\n",
    "#module for reshaping table\n",
    "import numpy as np\n",
    "\n",
    "#module for natural language processing\n",
    "import nltk\n",
    "\n",
    "#for dealing with stopwords e.g. and, or, in, at, is\n",
    "from nltk.corpus import stopwords\n",
    "nltk.download('stopwords')\n",
    "stop = stopwords.words('english')\n",
    "\n",
    "from rapidfuzz import process, utils as fuzz_utils\n",
    "\n",
    "#making data frame\n",
    "Universities = pd.read_excel('20200912 University List.xlsx')\n",
    "Projects = pd.read_excel('20200904 UOA23 Worktribe Projects.xlsx')\n",
    "\n",
    "Universities.head()\n",
    "#Projects"
   ]
  },
  {
   "cell_type": "code",
   "execution_count": 2,
   "metadata": {},
   "outputs": [
    {
     "output_type": "execute_result",
     "data": {
      "text/plain": [
       "                       institution_name country_code\n",
       "0     tan kapuja buddhista fiskola tkbf           HU\n",
       "1                aa school architecture           UK\n",
       "2                   aalborg universitet           DK\n",
       "3                        aaltoyliopisto           FI\n",
       "4                    aarhus universitet           DK\n",
       "...                                 ...          ...\n",
       "3643                                              BG\n",
       "3644                                              BG\n",
       "3645                                              BG\n",
       "3646                                              BG\n",
       "3647                                              BG\n",
       "\n",
       "[3648 rows x 2 columns]"
      ],
      "text/html": "<div>\n<style scoped>\n    .dataframe tbody tr th:only-of-type {\n        vertical-align: middle;\n    }\n\n    .dataframe tbody tr th {\n        vertical-align: top;\n    }\n\n    .dataframe thead th {\n        text-align: right;\n    }\n</style>\n<table border=\"1\" class=\"dataframe\">\n  <thead>\n    <tr style=\"text-align: right;\">\n      <th></th>\n      <th>institution_name</th>\n      <th>country_code</th>\n    </tr>\n  </thead>\n  <tbody>\n    <tr>\n      <th>0</th>\n      <td>tan kapuja buddhista fiskola tkbf</td>\n      <td>HU</td>\n    </tr>\n    <tr>\n      <th>1</th>\n      <td>aa school architecture</td>\n      <td>UK</td>\n    </tr>\n    <tr>\n      <th>2</th>\n      <td>aalborg universitet</td>\n      <td>DK</td>\n    </tr>\n    <tr>\n      <th>3</th>\n      <td>aaltoyliopisto</td>\n      <td>FI</td>\n    </tr>\n    <tr>\n      <th>4</th>\n      <td>aarhus universitet</td>\n      <td>DK</td>\n    </tr>\n    <tr>\n      <th>...</th>\n      <td>...</td>\n      <td>...</td>\n    </tr>\n    <tr>\n      <th>3643</th>\n      <td></td>\n      <td>BG</td>\n    </tr>\n    <tr>\n      <th>3644</th>\n      <td></td>\n      <td>BG</td>\n    </tr>\n    <tr>\n      <th>3645</th>\n      <td></td>\n      <td>BG</td>\n    </tr>\n    <tr>\n      <th>3646</th>\n      <td></td>\n      <td>BG</td>\n    </tr>\n    <tr>\n      <th>3647</th>\n      <td></td>\n      <td>BG</td>\n    </tr>\n  </tbody>\n</table>\n<p>3648 rows × 2 columns</p>\n</div>"
     },
     "metadata": {},
     "execution_count": 2
    }
   ],
   "source": [
    "Universities.drop(['English Institution Name'], axis=1, inplace=True)\n",
    "\n",
    "#renaming the column headings\n",
    "Universities.columns = Universities.columns.str.strip().str.lower().str.replace(' ', '_').str.replace('(', '').str.replace(')', '')\n",
    "\n",
    "#make all text in column lowercase\n",
    "Universities[\"institution_name\"] = Universities[\"institution_name\"].str.lower()\n",
    "\n",
    "#the w means any letter, the s means any whitespace, the d+ means numbers and the ^ means 'not' so code below means\n",
    "#remove all not letters, numbers and spaces from the column\n",
    "Universities[\"institution_name\"] = Universities[\"institution_name\"].str.replace(r'[^a-z\\s\\d+]', \"\")\n",
    "\n",
    "#remove words if less than 2 letters long\n",
    "Universities['institution_name'] = Universities['institution_name'].apply(lambda x: ' '.join([word for word in x.split() if len(word)>1]))\n",
    "\n",
    "#remove stopwords\n",
    "Universities['institution_name'] = Universities['institution_name'].apply(lambda x: ' '.join([word for word in x.split() if not word in stopwords.words('english')]))\n",
    "\n",
    "Universities"
   ]
  },
  {
   "cell_type": "code",
   "execution_count": 3,
   "metadata": {},
   "outputs": [
    {
     "output_type": "execute_result",
     "data": {
      "text/plain": [
       "     project_id                        other_organisations  \\\n",
       "0        560204                                        3IE   \n",
       "1       2820737  Aarhus University; Linkopings Universitet   \n",
       "2       2887054                      Action contre La Faim   \n",
       "3       4709373                      Action contre La Faim   \n",
       "4       3402155                               ActionAid UK   \n",
       "..          ...                                        ...   \n",
       "968     4928397                                        NaN   \n",
       "969     4961773                                        NaN   \n",
       "970     4967556                                        NaN   \n",
       "971     4991675                                        NaN   \n",
       "972     5055638                                        NaN   \n",
       "\n",
       "                         0                       1     2     3     4     5  \\\n",
       "0                      3IE                    None  None  None  None  None   \n",
       "1        Aarhus University  Linkopings Universitet  None  None  None  None   \n",
       "2    Action contre La Faim                    None  None  None  None  None   \n",
       "3    Action contre La Faim                    None  None  None  None  None   \n",
       "4             ActionAid UK                    None  None  None  None  None   \n",
       "..                     ...                     ...   ...   ...   ...   ...   \n",
       "968                    NaN                     NaN   NaN   NaN   NaN   NaN   \n",
       "969                    NaN                     NaN   NaN   NaN   NaN   NaN   \n",
       "970                    NaN                     NaN   NaN   NaN   NaN   NaN   \n",
       "971                    NaN                     NaN   NaN   NaN   NaN   NaN   \n",
       "972                    NaN                     NaN   NaN   NaN   NaN   NaN   \n",
       "\n",
       "        6     7     8  \n",
       "0    None  None  None  \n",
       "1    None  None  None  \n",
       "2    None  None  None  \n",
       "3    None  None  None  \n",
       "4    None  None  None  \n",
       "..    ...   ...   ...  \n",
       "968   NaN   NaN   NaN  \n",
       "969   NaN   NaN   NaN  \n",
       "970   NaN   NaN   NaN  \n",
       "971   NaN   NaN   NaN  \n",
       "972   NaN   NaN   NaN  \n",
       "\n",
       "[973 rows x 11 columns]"
      ],
      "text/html": "<div>\n<style scoped>\n    .dataframe tbody tr th:only-of-type {\n        vertical-align: middle;\n    }\n\n    .dataframe tbody tr th {\n        vertical-align: top;\n    }\n\n    .dataframe thead th {\n        text-align: right;\n    }\n</style>\n<table border=\"1\" class=\"dataframe\">\n  <thead>\n    <tr style=\"text-align: right;\">\n      <th></th>\n      <th>project_id</th>\n      <th>other_organisations</th>\n      <th>0</th>\n      <th>1</th>\n      <th>2</th>\n      <th>3</th>\n      <th>4</th>\n      <th>5</th>\n      <th>6</th>\n      <th>7</th>\n      <th>8</th>\n    </tr>\n  </thead>\n  <tbody>\n    <tr>\n      <th>0</th>\n      <td>560204</td>\n      <td>3IE</td>\n      <td>3IE</td>\n      <td>None</td>\n      <td>None</td>\n      <td>None</td>\n      <td>None</td>\n      <td>None</td>\n      <td>None</td>\n      <td>None</td>\n      <td>None</td>\n    </tr>\n    <tr>\n      <th>1</th>\n      <td>2820737</td>\n      <td>Aarhus University; Linkopings Universitet</td>\n      <td>Aarhus University</td>\n      <td>Linkopings Universitet</td>\n      <td>None</td>\n      <td>None</td>\n      <td>None</td>\n      <td>None</td>\n      <td>None</td>\n      <td>None</td>\n      <td>None</td>\n    </tr>\n    <tr>\n      <th>2</th>\n      <td>2887054</td>\n      <td>Action contre La Faim</td>\n      <td>Action contre La Faim</td>\n      <td>None</td>\n      <td>None</td>\n      <td>None</td>\n      <td>None</td>\n      <td>None</td>\n      <td>None</td>\n      <td>None</td>\n      <td>None</td>\n    </tr>\n    <tr>\n      <th>3</th>\n      <td>4709373</td>\n      <td>Action contre La Faim</td>\n      <td>Action contre La Faim</td>\n      <td>None</td>\n      <td>None</td>\n      <td>None</td>\n      <td>None</td>\n      <td>None</td>\n      <td>None</td>\n      <td>None</td>\n      <td>None</td>\n    </tr>\n    <tr>\n      <th>4</th>\n      <td>3402155</td>\n      <td>ActionAid UK</td>\n      <td>ActionAid UK</td>\n      <td>None</td>\n      <td>None</td>\n      <td>None</td>\n      <td>None</td>\n      <td>None</td>\n      <td>None</td>\n      <td>None</td>\n      <td>None</td>\n    </tr>\n    <tr>\n      <th>...</th>\n      <td>...</td>\n      <td>...</td>\n      <td>...</td>\n      <td>...</td>\n      <td>...</td>\n      <td>...</td>\n      <td>...</td>\n      <td>...</td>\n      <td>...</td>\n      <td>...</td>\n      <td>...</td>\n    </tr>\n    <tr>\n      <th>968</th>\n      <td>4928397</td>\n      <td>NaN</td>\n      <td>NaN</td>\n      <td>NaN</td>\n      <td>NaN</td>\n      <td>NaN</td>\n      <td>NaN</td>\n      <td>NaN</td>\n      <td>NaN</td>\n      <td>NaN</td>\n      <td>NaN</td>\n    </tr>\n    <tr>\n      <th>969</th>\n      <td>4961773</td>\n      <td>NaN</td>\n      <td>NaN</td>\n      <td>NaN</td>\n      <td>NaN</td>\n      <td>NaN</td>\n      <td>NaN</td>\n      <td>NaN</td>\n      <td>NaN</td>\n      <td>NaN</td>\n      <td>NaN</td>\n    </tr>\n    <tr>\n      <th>970</th>\n      <td>4967556</td>\n      <td>NaN</td>\n      <td>NaN</td>\n      <td>NaN</td>\n      <td>NaN</td>\n      <td>NaN</td>\n      <td>NaN</td>\n      <td>NaN</td>\n      <td>NaN</td>\n      <td>NaN</td>\n      <td>NaN</td>\n    </tr>\n    <tr>\n      <th>971</th>\n      <td>4991675</td>\n      <td>NaN</td>\n      <td>NaN</td>\n      <td>NaN</td>\n      <td>NaN</td>\n      <td>NaN</td>\n      <td>NaN</td>\n      <td>NaN</td>\n      <td>NaN</td>\n      <td>NaN</td>\n      <td>NaN</td>\n    </tr>\n    <tr>\n      <th>972</th>\n      <td>5055638</td>\n      <td>NaN</td>\n      <td>NaN</td>\n      <td>NaN</td>\n      <td>NaN</td>\n      <td>NaN</td>\n      <td>NaN</td>\n      <td>NaN</td>\n      <td>NaN</td>\n      <td>NaN</td>\n      <td>NaN</td>\n    </tr>\n  </tbody>\n</table>\n<p>973 rows × 11 columns</p>\n</div>"
     },
     "metadata": {},
     "execution_count": 3
    }
   ],
   "source": [
    "Projects.drop(['WT_Record_Status','UOA23','Non-UOA dept collabs','External collabs','Covid'], axis=1, inplace=True)\n",
    "\n",
    "#renaming the column headings\n",
    "Projects.columns = Projects.columns.str.strip().str.lower().str.replace(' ', '_').str.replace('(', '').str.replace(')', '')\n",
    "\n",
    "#break text to columns\n",
    "Separate_orgs = Projects [\"other_organisations\"].str.split(\"; \", n = -1, expand = True)\n",
    "\n",
    "Projects = pd.concat([Projects, Separate_orgs], axis=1)\n",
    "\n",
    "Projects"
   ]
  },
  {
   "cell_type": "code",
   "execution_count": 4,
   "metadata": {},
   "outputs": [
    {
     "output_type": "execute_result",
     "data": {
      "text/plain": [
       "      project_id                                   institution_name\n",
       "0         560204                                                3ie\n",
       "1        2820737                                  aarhus university\n",
       "2        2887054                              action contre la faim\n",
       "3        4709373                              action contre la faim\n",
       "4        3402155                                       actionaid uk\n",
       "...          ...                                                ...\n",
       "7139     2105816                spartans community football academy\n",
       "7183      294704  council development social science research af...\n",
       "7218     1443402                                         oneplusone\n",
       "7303     2709176                                   university leeds\n",
       "8156      294704                              somali national unive\n",
       "\n",
       "[824 rows x 2 columns]"
      ],
      "text/html": "<div>\n<style scoped>\n    .dataframe tbody tr th:only-of-type {\n        vertical-align: middle;\n    }\n\n    .dataframe tbody tr th {\n        vertical-align: top;\n    }\n\n    .dataframe thead th {\n        text-align: right;\n    }\n</style>\n<table border=\"1\" class=\"dataframe\">\n  <thead>\n    <tr style=\"text-align: right;\">\n      <th></th>\n      <th>project_id</th>\n      <th>institution_name</th>\n    </tr>\n  </thead>\n  <tbody>\n    <tr>\n      <th>0</th>\n      <td>560204</td>\n      <td>3ie</td>\n    </tr>\n    <tr>\n      <th>1</th>\n      <td>2820737</td>\n      <td>aarhus university</td>\n    </tr>\n    <tr>\n      <th>2</th>\n      <td>2887054</td>\n      <td>action contre la faim</td>\n    </tr>\n    <tr>\n      <th>3</th>\n      <td>4709373</td>\n      <td>action contre la faim</td>\n    </tr>\n    <tr>\n      <th>4</th>\n      <td>3402155</td>\n      <td>actionaid uk</td>\n    </tr>\n    <tr>\n      <th>...</th>\n      <td>...</td>\n      <td>...</td>\n    </tr>\n    <tr>\n      <th>7139</th>\n      <td>2105816</td>\n      <td>spartans community football academy</td>\n    </tr>\n    <tr>\n      <th>7183</th>\n      <td>294704</td>\n      <td>council development social science research af...</td>\n    </tr>\n    <tr>\n      <th>7218</th>\n      <td>1443402</td>\n      <td>oneplusone</td>\n    </tr>\n    <tr>\n      <th>7303</th>\n      <td>2709176</td>\n      <td>university leeds</td>\n    </tr>\n    <tr>\n      <th>8156</th>\n      <td>294704</td>\n      <td>somali national unive</td>\n    </tr>\n  </tbody>\n</table>\n<p>824 rows × 2 columns</p>\n</div>"
     },
     "metadata": {},
     "execution_count": 4
    }
   ],
   "source": [
    "Projects.drop(['other_organisations'], axis=1, inplace=True)\n",
    "\n",
    "#transforms the dataset from wide to long\n",
    "Projects=pd.melt(Projects,id_vars=['project_id'], value_name='institution_name')\n",
    "\n",
    "Projects = Projects.dropna()\n",
    "\n",
    "Projects.drop(['variable'], axis=1, inplace=True)\n",
    "\n",
    "#make all text in column lowercase\n",
    "Projects[\"institution_name\"] = Projects[\"institution_name\"].str.lower()\n",
    "\n",
    "#the w means any letter, the s means any whitespace and the ^ means 'not' so code below means\n",
    "#remove all not letters and spaces from the column\n",
    "Projects[\"institution_name\"] = Projects[\"institution_name\"].str.replace(r'[^a-z\\s\\d+]', '')\n",
    "\n",
    "#remove words if less than 2 letters long\n",
    "Projects['institution_name'] = Projects['institution_name'].apply(lambda x: ' '.join([word for word in x.split() if len(word)>1]))\n",
    "\n",
    "#remove stopwords\n",
    "Projects['institution_name'] = Projects['institution_name'].apply(lambda x: ' '.join([word for word in x.split() if not word in stopwords.words('english')]))\n",
    "\n",
    "Projects"
   ]
  },
  {
   "cell_type": "code",
   "execution_count": 6,
   "metadata": {},
   "outputs": [
    {
     "output_type": "execute_result",
     "data": {
      "text/plain": [
       "                       institution_name country_code\n",
       "0     tan kapuja buddhista fiskola tkbf           HU\n",
       "1                aa school architecture           UK\n",
       "2                              aalborg            DK\n",
       "3                        aaltoyliopisto           FI\n",
       "4                               aarhus            DK\n",
       "...                                 ...          ...\n",
       "3643                                              BG\n",
       "3644                                              BG\n",
       "3645                                              BG\n",
       "3646                                              BG\n",
       "3647                                              BG\n",
       "\n",
       "[3648 rows x 2 columns]"
      ],
      "text/html": "<div>\n<style scoped>\n    .dataframe tbody tr th:only-of-type {\n        vertical-align: middle;\n    }\n\n    .dataframe tbody tr th {\n        vertical-align: top;\n    }\n\n    .dataframe thead th {\n        text-align: right;\n    }\n</style>\n<table border=\"1\" class=\"dataframe\">\n  <thead>\n    <tr style=\"text-align: right;\">\n      <th></th>\n      <th>institution_name</th>\n      <th>country_code</th>\n    </tr>\n  </thead>\n  <tbody>\n    <tr>\n      <th>0</th>\n      <td>tan kapuja buddhista fiskola tkbf</td>\n      <td>HU</td>\n    </tr>\n    <tr>\n      <th>1</th>\n      <td>aa school architecture</td>\n      <td>UK</td>\n    </tr>\n    <tr>\n      <th>2</th>\n      <td>aalborg</td>\n      <td>DK</td>\n    </tr>\n    <tr>\n      <th>3</th>\n      <td>aaltoyliopisto</td>\n      <td>FI</td>\n    </tr>\n    <tr>\n      <th>4</th>\n      <td>aarhus</td>\n      <td>DK</td>\n    </tr>\n    <tr>\n      <th>...</th>\n      <td>...</td>\n      <td>...</td>\n    </tr>\n    <tr>\n      <th>3643</th>\n      <td></td>\n      <td>BG</td>\n    </tr>\n    <tr>\n      <th>3644</th>\n      <td></td>\n      <td>BG</td>\n    </tr>\n    <tr>\n      <th>3645</th>\n      <td></td>\n      <td>BG</td>\n    </tr>\n    <tr>\n      <th>3646</th>\n      <td></td>\n      <td>BG</td>\n    </tr>\n    <tr>\n      <th>3647</th>\n      <td></td>\n      <td>BG</td>\n    </tr>\n  </tbody>\n</table>\n<p>3648 rows × 2 columns</p>\n</div>"
     },
     "metadata": {},
     "execution_count": 6
    }
   ],
   "source": [
    "#remove unneeded words to increase matches\n",
    "pattern = '|'.join(['university', 'universitet', 'college'])\n",
    "\n",
    "Projects[\"institution_name\"] = Projects[\"institution_name\"].str.replace(pattern, '')\n",
    "Universities[\"institution_name\"] = Universities[\"institution_name\"].str.replace(pattern, '')\n",
    "\n",
    "Universities"
   ]
  },
  {
   "cell_type": "code",
   "execution_count": 7,
   "metadata": {},
   "outputs": [
    {
     "output_type": "execute_result",
     "data": {
      "text/plain": [
       "     project_id                                 institution_name_x  \\\n",
       "0        560204                                                3ie   \n",
       "1       2820737                                            aarhus    \n",
       "2       2887054                              action contre la faim   \n",
       "3       4709373                              action contre la faim   \n",
       "4       3402155                                       actionaid uk   \n",
       "..          ...                                                ...   \n",
       "827     2105816                spartans community football academy   \n",
       "828      294704  council development social science research af...   \n",
       "829     1443402                                         oneplusone   \n",
       "830     2709176                                              leeds   \n",
       "831      294704                              somali national unive   \n",
       "\n",
       "                          Match organisations institution_name_y country_code  \n",
       "0                            []           NaN                NaN          NaN  \n",
       "1    [(aarhus, 100.0, aarhus )]       aarhus             aarhus            DK  \n",
       "2                            []           NaN                NaN          NaN  \n",
       "3                            []           NaN                NaN          NaN  \n",
       "4                            []           NaN                NaN          NaN  \n",
       "..                          ...           ...                ...          ...  \n",
       "827                          []           NaN                NaN          NaN  \n",
       "828                          []           NaN                NaN          NaN  \n",
       "829                          []           NaN                NaN          NaN  \n",
       "830    [(leeds, 100.0,  leeds)]         leeds              leeds           UK  \n",
       "831                          []           NaN                NaN          NaN  \n",
       "\n",
       "[832 rows x 6 columns]"
      ],
      "text/html": "<div>\n<style scoped>\n    .dataframe tbody tr th:only-of-type {\n        vertical-align: middle;\n    }\n\n    .dataframe tbody tr th {\n        vertical-align: top;\n    }\n\n    .dataframe thead th {\n        text-align: right;\n    }\n</style>\n<table border=\"1\" class=\"dataframe\">\n  <thead>\n    <tr style=\"text-align: right;\">\n      <th></th>\n      <th>project_id</th>\n      <th>institution_name_x</th>\n      <th>Match</th>\n      <th>organisations</th>\n      <th>institution_name_y</th>\n      <th>country_code</th>\n    </tr>\n  </thead>\n  <tbody>\n    <tr>\n      <th>0</th>\n      <td>560204</td>\n      <td>3ie</td>\n      <td>[]</td>\n      <td>NaN</td>\n      <td>NaN</td>\n      <td>NaN</td>\n    </tr>\n    <tr>\n      <th>1</th>\n      <td>2820737</td>\n      <td>aarhus</td>\n      <td>[(aarhus, 100.0, aarhus )]</td>\n      <td>aarhus</td>\n      <td>aarhus</td>\n      <td>DK</td>\n    </tr>\n    <tr>\n      <th>2</th>\n      <td>2887054</td>\n      <td>action contre la faim</td>\n      <td>[]</td>\n      <td>NaN</td>\n      <td>NaN</td>\n      <td>NaN</td>\n    </tr>\n    <tr>\n      <th>3</th>\n      <td>4709373</td>\n      <td>action contre la faim</td>\n      <td>[]</td>\n      <td>NaN</td>\n      <td>NaN</td>\n      <td>NaN</td>\n    </tr>\n    <tr>\n      <th>4</th>\n      <td>3402155</td>\n      <td>actionaid uk</td>\n      <td>[]</td>\n      <td>NaN</td>\n      <td>NaN</td>\n      <td>NaN</td>\n    </tr>\n    <tr>\n      <th>...</th>\n      <td>...</td>\n      <td>...</td>\n      <td>...</td>\n      <td>...</td>\n      <td>...</td>\n      <td>...</td>\n    </tr>\n    <tr>\n      <th>827</th>\n      <td>2105816</td>\n      <td>spartans community football academy</td>\n      <td>[]</td>\n      <td>NaN</td>\n      <td>NaN</td>\n      <td>NaN</td>\n    </tr>\n    <tr>\n      <th>828</th>\n      <td>294704</td>\n      <td>council development social science research af...</td>\n      <td>[]</td>\n      <td>NaN</td>\n      <td>NaN</td>\n      <td>NaN</td>\n    </tr>\n    <tr>\n      <th>829</th>\n      <td>1443402</td>\n      <td>oneplusone</td>\n      <td>[]</td>\n      <td>NaN</td>\n      <td>NaN</td>\n      <td>NaN</td>\n    </tr>\n    <tr>\n      <th>830</th>\n      <td>2709176</td>\n      <td>leeds</td>\n      <td>[(leeds, 100.0,  leeds)]</td>\n      <td>leeds</td>\n      <td>leeds</td>\n      <td>UK</td>\n    </tr>\n    <tr>\n      <th>831</th>\n      <td>294704</td>\n      <td>somali national unive</td>\n      <td>[]</td>\n      <td>NaN</td>\n      <td>NaN</td>\n      <td>NaN</td>\n    </tr>\n  </tbody>\n</table>\n<p>832 rows × 6 columns</p>\n</div>"
     },
     "metadata": {},
     "execution_count": 7
    }
   ],
   "source": [
    "#This works for 508 of 832 records. \n",
    "def fuzzy_merge(baseFrame, compareFrame, baseKey, compareKey, threshold=90, limit=1, how='left'):\n",
    "    #   baseFrame: the left table to join\n",
    "    #   compareFrame: the right table to join\n",
    "    #   baseKey: key column of the left table\n",
    "    #   compareKey: key column of the right table\n",
    "    #   threshold: how close the matches should be to return a match, based on Levenshtein distance\n",
    "    #   limit: the amount of matches that will get returned, these are sorted high to low\n",
    "    #   return: dataframe with boths keys and matches\n",
    "    s_mapping = {x: fuzz_utils.default_process(x) for x in compareFrame[compareKey]}\n",
    "\n",
    "    m1 = baseFrame[baseKey].apply(lambda x: process.extract(\n",
    "      fuzz_utils.default_process(x), s_mapping, limit=limit, score_cutoff=threshold, processor=None\n",
    "    ))\n",
    "    baseFrame['Match'] = m1\n",
    "\n",
    "    m2 = baseFrame['Match'].apply(lambda x: ', '.join(i[2] for i in x))\n",
    "    baseFrame['organisations'] = m2.replace(\"\",np.nan)\n",
    "\n",
    "    return baseFrame.merge(compareFrame, left_on='organisations', right_on=baseKey, how=how)\n",
    "\n",
    "Merged = fuzzy_merge(Projects, Universities, 'institution_name', 'institution_name')\n",
    "\n",
    "Merged"
   ]
  },
  {
   "cell_type": "code",
   "execution_count": 8,
   "metadata": {},
   "outputs": [],
   "source": [
    "Merged.to_csv('collaborations.csv')\n",
    "#Collaborations.to_csv('university.csv')"
   ]
  }
 ]
}